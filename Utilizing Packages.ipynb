{
 "cells": [
  {
   "cell_type": "markdown",
   "id": "52467641-63bd-4a96-a59b-a84d7e24603e",
   "metadata": {},
   "source": [
    "## Adding Classes to a Package\n",
    "\n",
    "### Anatomy of a class\n",
    "working in `work_dir/my_package/my_class.py`"
   ]
  },
  {
   "cell_type": "code",
   "execution_count": null,
   "id": "63769661-c15d-453d-8007-c0a9ca82abe9",
   "metadata": {},
   "outputs": [],
   "source": [
    "# Define a minimal class with an attribute\n",
    "class MyClass:\n",
    "    \"\"\"A minimal example class \n",
    "    :param value: value to set as the ``attribute`` attribute  \n",
    "    :ivar attribute: contains the contents of ``value`` passed in init  \n",
    "    \"\"\"\n",
    "    # Method to create a new instance of MyClass\n",
    "    def __init__(self, value):\n",
    "        # Define attribute with the contents of the value param      \n",
    "        self.attribute = value"
   ]
  },
  {
   "cell_type": "markdown",
   "id": "aede5f11-ea9f-4e05-a2ec-e728008673cf",
   "metadata": {},
   "source": [
    "### Using a class in a package\n",
    "working in `work_dir/my_package/__init__.py`"
   ]
  },
  {
   "cell_type": "code",
   "execution_count": null,
   "id": "b3711d67-eb4f-40a3-b9ea-76cc18c620ca",
   "metadata": {},
   "outputs": [],
   "source": [
    "from .my_class import MyClass"
   ]
  },
  {
   "cell_type": "markdown",
   "id": "ecd1fcf1-989d-442f-9c02-2939aca94147",
   "metadata": {},
   "source": [
    "working in `work_dir/my_script.py`"
   ]
  },
  {
   "cell_type": "code",
   "execution_count": null,
   "id": "6be4f64d-3cb3-40fd-b6c7-e78afa38fc16",
   "metadata": {},
   "outputs": [],
   "source": [
    "import my_package\n",
    "\n",
    "# Create instance of MyClass\n",
    "my_instance = my_package.MyClass(value='class attribute value')\n",
    "\n",
    "# Print out class attribute value\n",
    "print(my_instance.attribute)"
   ]
  },
  {
   "cell_type": "markdown",
   "id": "d9cd16aa-4142-4d9c-9239-5bd9ac6f2c4e",
   "metadata": {},
   "source": [
    "### The self convention \n",
    "working in `work_dir/my_package/my_class.py`"
   ]
  },
  {
   "cell_type": "code",
   "execution_count": null,
   "id": "81ec55fe-80c2-4e01-8f6f-24647b0af92d",
   "metadata": {},
   "outputs": [],
   "source": [
    "# Define a minimal class with an attribute\n",
    "class MyClass:\n",
    "    \"\"\"A minimal example class   \n",
    "    :param value: value to set as the ``attribute`` attribute  \n",
    "    :ivar attribute: contains the contents of ``value`` passed in init   \n",
    "    \"\"\"\n",
    "    # Method to create a new instance of MyClass\n",
    "    def __init__(self, value):\n",
    "        # Define attribute with the contents of the value param  \n",
    "        self.attribute = value"
   ]
  },
  {
   "cell_type": "code",
   "execution_count": null,
   "id": "bb91c1b8-29e9-4149-bd7c-789e07f3972b",
   "metadata": {},
   "outputs": [],
   "source": [
    "my_instance = my_package.MyClass(value='class attribute value')"
   ]
  },
  {
   "cell_type": "code",
   "execution_count": null,
   "id": "6289065e-eac8-40fd-acad-80277a0480f8",
   "metadata": {},
   "outputs": [],
   "source": [
    "# Practice 1\n",
    "\n",
    "# Define Document class\n",
    "class Document:\n",
    "    \"\"\"A class for text analysis\n",
    "    \n",
    "    :param text: string of text to be analyzed\n",
    "    :ivar text: string of text to be analyzed; set by `text` parameter\n",
    "    \"\"\"\n",
    "    # Method to create a new instance of Document\n",
    "    def __init__(self, text):\n",
    "        # Store text parameter to the text attribute\n",
    "        self.text = text"
   ]
  },
  {
   "cell_type": "code",
   "execution_count": null,
   "id": "7e6deb7f-495f-4514-9be3-c1405c2900f6",
   "metadata": {},
   "outputs": [],
   "source": [
    "# Practice 2\n",
    "\n",
    "# Import custom text_analyzer package\n",
    "import text_analyzer\n",
    "\n",
    "# Create an instance of Document with datacamp_tweet\n",
    "my_document = text_analyzer.Document(text=datacamp_tweet)\n",
    "\n",
    "# Print the text attribute of the Document instance\n",
    "print(my_document.text)"
   ]
  },
  {
   "cell_type": "code",
   "execution_count": null,
   "id": "3bc957bc-763a-4769-aa5e-5d8373f4ed55",
   "metadata": {},
   "outputs": [],
   "source": []
  },
  {
   "cell_type": "code",
   "execution_count": null,
   "id": "ae1182a3-0645-4db5-b4d3-eac002bd0602",
   "metadata": {},
   "outputs": [],
   "source": []
  },
  {
   "cell_type": "code",
   "execution_count": null,
   "id": "22861e5c-cfff-407f-b372-27d140361c0a",
   "metadata": {},
   "outputs": [],
   "source": []
  }
 ],
 "metadata": {
  "kernelspec": {
   "display_name": "Python [conda env:base] *",
   "language": "python",
   "name": "conda-base-py"
  },
  "language_info": {
   "codemirror_mode": {
    "name": "ipython",
    "version": 3
   },
   "file_extension": ".py",
   "mimetype": "text/x-python",
   "name": "python",
   "nbconvert_exporter": "python",
   "pygments_lexer": "ipython3",
   "version": "3.12.7"
  }
 },
 "nbformat": 4,
 "nbformat_minor": 5
}
